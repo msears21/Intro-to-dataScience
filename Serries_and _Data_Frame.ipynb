{
 "cells": [
  {
   "cell_type": "code",
   "execution_count": 7,
   "id": "efac0d09",
   "metadata": {},
   "outputs": [],
   "source": [
    "import numpy as np"
   ]
  },
  {
   "cell_type": "code",
   "execution_count": 8,
   "id": "80c76d5c",
   "metadata": {},
   "outputs": [
    {
     "data": {
      "text/plain": [
       "list"
      ]
     },
     "execution_count": 8,
     "metadata": {},
     "output_type": "execute_result"
    }
   ],
   "source": [
    "mylist = [i for i in range (10)]\n",
    "type(mylist)"
   ]
  },
  {
   "cell_type": "code",
   "execution_count": 5,
   "id": "b887d5bf",
   "metadata": {},
   "outputs": [
    {
     "data": {
      "text/plain": [
       "[0, 1, 2, 3, 4, 5, 6, 7, 8, 9, 0, 1, 2, 3, 4, 5, 6, 7, 8, 9]"
      ]
     },
     "execution_count": 5,
     "metadata": {},
     "output_type": "execute_result"
    }
   ],
   "source": [
    "mylist*2"
   ]
  },
  {
   "cell_type": "code",
   "execution_count": 9,
   "id": "3685215d",
   "metadata": {},
   "outputs": [
    {
     "data": {
      "text/plain": [
       "numpy.ndarray"
      ]
     },
     "execution_count": 9,
     "metadata": {},
     "output_type": "execute_result"
    }
   ],
   "source": [
    "myarra = np.array(mylist)\n",
    "type(myarra)"
   ]
  },
  {
   "cell_type": "code",
   "execution_count": 10,
   "id": "9d26da3b",
   "metadata": {},
   "outputs": [
    {
     "data": {
      "text/plain": [
       "array([0.        , 1.        , 1.41421356, 1.73205081, 2.        ,\n",
       "       2.23606798, 2.44948974, 2.64575131, 2.82842712, 3.        ])"
      ]
     },
     "execution_count": 10,
     "metadata": {},
     "output_type": "execute_result"
    }
   ],
   "source": [
    "myarra**0.5"
   ]
  },
  {
   "cell_type": "code",
   "execution_count": null,
   "id": "93fa5eea",
   "metadata": {},
   "outputs": [],
   "source": []
  },
  {
   "cell_type": "code",
   "execution_count": 12,
   "id": "9dd515f3",
   "metadata": {},
   "outputs": [
    {
     "data": {
      "text/plain": [
       "array([[ 0,  1,  5],\n",
       "       [-2,  1,  4],\n",
       "       [ 7,  8,  9]])"
      ]
     },
     "execution_count": 12,
     "metadata": {},
     "output_type": "execute_result"
    }
   ],
   "source": [
    "mymatrix = np.array([[0,1,5],[-2,1,4],[7,8,9]])\n",
    "mymatrix"
   ]
  },
  {
   "cell_type": "code",
   "execution_count": 13,
   "id": "aa443d74",
   "metadata": {},
   "outputs": [
    {
     "data": {
      "text/plain": [
       "array([[ 0],\n",
       "       [-2],\n",
       "       [ 7]])"
      ]
     },
     "execution_count": 13,
     "metadata": {},
     "output_type": "execute_result"
    }
   ],
   "source": [
    "mymatrix[:,0:1]"
   ]
  },
  {
   "cell_type": "code",
   "execution_count": 14,
   "id": "a3373203",
   "metadata": {},
   "outputs": [
    {
     "data": {
      "text/plain": [
       "array([[1],\n",
       "       [1],\n",
       "       [8]])"
      ]
     },
     "execution_count": 14,
     "metadata": {},
     "output_type": "execute_result"
    }
   ],
   "source": [
    "mymatrix[:,1:2]"
   ]
  },
  {
   "cell_type": "code",
   "execution_count": 17,
   "id": "63dd66b4",
   "metadata": {},
   "outputs": [
    {
     "data": {
      "text/plain": [
       "array([[5],\n",
       "       [4]])"
      ]
     },
     "execution_count": 17,
     "metadata": {},
     "output_type": "execute_result"
    }
   ],
   "source": [
    "mymatrix[0:2,2:3]"
   ]
  },
  {
   "cell_type": "code",
   "execution_count": 19,
   "id": "228b8df0",
   "metadata": {},
   "outputs": [
    {
     "data": {
      "text/plain": [
       "array([0, 1, 2, 3, 4, 5, 6, 7, 8, 9])"
      ]
     },
     "execution_count": 19,
     "metadata": {},
     "output_type": "execute_result"
    }
   ],
   "source": [
    "myarange = np.arange(10)\n",
    "myarange"
   ]
  },
  {
   "cell_type": "code",
   "execution_count": 22,
   "id": "4ef37128",
   "metadata": {},
   "outputs": [
    {
     "data": {
      "text/plain": [
       "array([0, 2, 4, 6, 8])"
      ]
     },
     "execution_count": 22,
     "metadata": {},
     "output_type": "execute_result"
    }
   ],
   "source": [
    "myrangestep = np.arange(0,10,2)\n",
    "myrangestep"
   ]
  },
  {
   "cell_type": "code",
   "execution_count": 24,
   "id": "6e707e92",
   "metadata": {},
   "outputs": [
    {
     "data": {
      "text/plain": [
       "array([0., 0., 0.])"
      ]
     },
     "execution_count": 24,
     "metadata": {},
     "output_type": "execute_result"
    }
   ],
   "source": [
    "Z = np.zeros(3)\n",
    "Z"
   ]
  },
  {
   "cell_type": "code",
   "execution_count": 27,
   "id": "251a7c39",
   "metadata": {},
   "outputs": [
    {
     "data": {
      "text/plain": [
       "array([ 1.        ,  1.68571429,  2.37142857,  3.05714286,  3.74285714,\n",
       "        4.42857143,  5.11428571,  5.8       ,  6.48571429,  7.17142857,\n",
       "        7.85714286,  8.54285714,  9.22857143,  9.91428571, 10.6       ,\n",
       "       11.28571429, 11.97142857, 12.65714286, 13.34285714, 14.02857143,\n",
       "       14.71428571, 15.4       , 16.08571429, 16.77142857, 17.45714286,\n",
       "       18.14285714, 18.82857143, 19.51428571, 20.2       , 20.88571429,\n",
       "       21.57142857, 22.25714286, 22.94285714, 23.62857143, 24.31428571,\n",
       "       25.        ])"
      ]
     },
     "execution_count": 27,
     "metadata": {},
     "output_type": "execute_result"
    }
   ],
   "source": [
    "L = np.linspace(1,25,36)\n",
    "L"
   ]
  },
  {
   "cell_type": "code",
   "execution_count": 1,
   "id": "3e1765df",
   "metadata": {},
   "outputs": [
    {
     "ename": "NameError",
     "evalue": "name 'df' is not defined",
     "output_type": "error",
     "traceback": [
      "\u001b[0;31m---------------------------------------------------------------------------\u001b[0m",
      "\u001b[0;31mNameError\u001b[0m                                 Traceback (most recent call last)",
      "Input \u001b[0;32mIn [1]\u001b[0m, in \u001b[0;36m<cell line: 1>\u001b[0;34m()\u001b[0m\n\u001b[0;32m----> 1\u001b[0m \u001b[43mdf\u001b[49m\u001b[38;5;241m.\u001b[39miloc[\u001b[38;5;241m1\u001b[39m][\u001b[38;5;124m'\u001b[39m\u001b[38;5;124mX\u001b[39m\u001b[38;5;124m'\u001b[39m]\n",
      "\u001b[0;31mNameError\u001b[0m: name 'df' is not defined"
     ]
    }
   ],
   "source": []
  },
  {
   "cell_type": "code",
   "execution_count": null,
   "id": "bb492781",
   "metadata": {},
   "outputs": [],
   "source": []
  }
 ],
 "metadata": {
  "kernelspec": {
   "display_name": "Python 3 (ipykernel)",
   "language": "python",
   "name": "python3"
  },
  "language_info": {
   "codemirror_mode": {
    "name": "ipython",
    "version": 3
   },
   "file_extension": ".py",
   "mimetype": "text/x-python",
   "name": "python",
   "nbconvert_exporter": "python",
   "pygments_lexer": "ipython3",
   "version": "3.9.12"
  }
 },
 "nbformat": 4,
 "nbformat_minor": 5
}
